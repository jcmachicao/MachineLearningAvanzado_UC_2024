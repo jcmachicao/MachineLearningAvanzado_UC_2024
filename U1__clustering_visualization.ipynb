{
  "nbformat": 4,
  "nbformat_minor": 0,
  "metadata": {
    "colab": {
      "provenance": [],
      "authorship_tag": "ABX9TyPEmbcV0FvnKF7gfcPwn6sb",
      "include_colab_link": true
    },
    "kernelspec": {
      "name": "python3",
      "display_name": "Python 3"
    },
    "language_info": {
      "name": "python"
    }
  },
  "cells": [
    {
      "cell_type": "markdown",
      "metadata": {
        "id": "view-in-github",
        "colab_type": "text"
      },
      "source": [
        "<a href=\"https://colab.research.google.com/github/jcmachicao/MachineLearningAvanzado_UC_2024/blob/main/U1__clustering_visualization.ipynb\" target=\"_parent\"><img src=\"https://colab.research.google.com/assets/colab-badge.svg\" alt=\"Open In Colab\"/></a>"
      ]
    },
    {
      "cell_type": "code",
      "source": [
        "from sklearn.decomposition import PCA\n",
        "from sklearn.cluster import DBSCAN\n",
        "from sklearn.neighbors import KernelDensity\n",
        "import numpy as np\n",
        "import matplotlib.pyplot as plt\n",
        "from sklearn.metrics.pairwise import cosine_similarity, euclidean_distances"
      ],
      "metadata": {
        "id": "ut2WEYyKqc17"
      },
      "execution_count": 2,
      "outputs": []
    },
    {
      "cell_type": "code",
      "execution_count": null,
      "metadata": {
        "id": "ouewYij4qa1l"
      },
      "outputs": [],
      "source": [
        "# Normalización\n",
        "data = ...  # Dataset original\n",
        "data_normalized = (data - data.mean(axis=0)) / data.std(axis=0)\n",
        "\n",
        "# PCA + Hexbin\n",
        "pca = PCA(n_components=2)\n",
        "data_pca = pca.fit_transform(data_normalized)\n",
        "\n",
        "plt.hexbin(data_pca[:, 0], data_pca[:, 1], gridsize=30, cmap='Blues')\n",
        "plt.title(\"Hexbin después de PCA\")\n",
        "plt.show()"
      ]
    },
    {
      "cell_type": "code",
      "source": [
        "# Similaridad Vectorial + DBSCAN\n",
        "dbscan = DBSCAN(eps=0.5, min_samples=5)\n",
        "clusters = dbscan.fit_predict(data_normalized)\n",
        "\n",
        "plt.scatter(data_pca[:, 0], data_pca[:, 1], c=clusters, cmap='viridis')\n",
        "plt.title(\"Clusters con DBSCAN en el espacio original\")\n",
        "plt.show()"
      ],
      "metadata": {
        "id": "gilPhWHyr8SC"
      },
      "execution_count": null,
      "outputs": []
    },
    {
      "cell_type": "code",
      "source": [
        "# Optional: Print most similar pairs (excluding self-similarity)\n",
        "def get_most_similar_pairs(sim_matrix, top_n=5):\n",
        "    \"\"\"Finds the top N most similar pairs from a similarity matrix.\"\"\"\n",
        "    sim_matrix = np.triu(sim_matrix, k=1)  # Ignore the diagonal and lower triangle\n",
        "    pairs = np.dstack(np.unravel_index(np.argsort(-sim_matrix.ravel()), sim_matrix.shape))[0]\n",
        "    top_pairs = [(i, j, sim_matrix[i, j]) for i, j in pairs[:top_n]]\n",
        "    return top_pairs\n",
        "\n",
        "most_similar_pairs = get_most_similar_pairs(cos_sim_matrix, top_n=5)\n",
        "print(\"Most similar pairs based on cosine similarity:\")\n",
        "for i, j, sim in most_similar_pairs:\n",
        "    print(f\"Pair ({i}, {j}): Similarity = {sim:.4f}\")"
      ],
      "metadata": {
        "id": "DHb0IZU5rfDj"
      },
      "execution_count": null,
      "outputs": []
    }
  ]
}