{
  "nbformat": 4,
  "nbformat_minor": 0,
  "metadata": {
    "colab": {
      "provenance": [],
      "authorship_tag": "ABX9TyMBNBZFORsR8B+Hx79eixln",
      "include_colab_link": true
    },
    "kernelspec": {
      "name": "python3",
      "display_name": "Python 3"
    },
    "language_info": {
      "name": "python"
    }
  },
  "cells": [
    {
      "cell_type": "markdown",
      "metadata": {
        "id": "view-in-github",
        "colab_type": "text"
      },
      "source": [
        "<a href=\"https://colab.research.google.com/github/jcmachicao/MachineLearningAvanzado_UC_2024/blob/main/U2_MLADV__Torch_HYPER_Optuna_JCM.ipynb\" target=\"_parent\"><img src=\"https://colab.research.google.com/assets/colab-badge.svg\" alt=\"Open In Colab\"/></a>"
      ]
    },
    {
      "cell_type": "markdown",
      "source": [
        "## Optimización de Hiperparametros de Red Neuronal OPTUNA"
      ],
      "metadata": {
        "id": "S1kNMWCM0rHz"
      }
    },
    {
      "cell_type": "code",
      "source": [
        "!pip install optuna"
      ],
      "metadata": {
        "id": "CF19ro0F04g3"
      },
      "execution_count": null,
      "outputs": []
    },
    {
      "cell_type": "code",
      "source": [
        "import torch\n",
        "import torch.nn as nn\n",
        "import torch.optim as optim\n",
        "from torchvision import datasets, transforms\n",
        "import optuna"
      ],
      "metadata": {
        "id": "6Ecu6Zncgxg7"
      },
      "execution_count": 2,
      "outputs": []
    },
    {
      "cell_type": "code",
      "source": [
        "# Define a simple feedforward neural network\n",
        "class SimpleNN(nn.Module):\n",
        "    def __init__(self, input_size, hidden_size, output_size):\n",
        "        super(SimpleNN, self).__init__()\n",
        "        self.fc1 = nn.Linear(input_size, hidden_size)\n",
        "        self.relu = nn.ReLU()\n",
        "        self.fc2 = nn.Linear(hidden_size, output_size)\n",
        "\n",
        "    def forward(self, x):\n",
        "        x = self.fc1(x)\n",
        "        x = self.relu(x)\n",
        "        x = self.fc2(x)\n",
        "        return x"
      ],
      "metadata": {
        "id": "eHFqwBEZ2XeT"
      },
      "execution_count": 3,
      "outputs": []
    },
    {
      "cell_type": "code",
      "source": [
        "# Define the training function\n",
        "def train(model, train_loader, optimizer, criterion):\n",
        "    model.train()\n",
        "    for batch_idx, (data, target) in enumerate(train_loader):\n",
        "        optimizer.zero_grad()\n",
        "        output = model(data.view(data.size(0), -1))\n",
        "        loss = criterion(output, target)\n",
        "        loss.backward()\n",
        "        optimizer.step()"
      ],
      "metadata": {
        "id": "gyaRA4742c3q"
      },
      "execution_count": 4,
      "outputs": []
    },
    {
      "cell_type": "code",
      "source": [
        "# Define the evaluation function\n",
        "def evaluate(model, val_loader, criterion):\n",
        "    model.eval()\n",
        "    val_loss = 0.0\n",
        "    correct = 0\n",
        "    with torch.no_grad():\n",
        "        for data, target in val_loader:\n",
        "            output = model(data.view(data.size(0), -1))\n",
        "            val_loss += criterion(output, target).item()\n",
        "            pred = output.argmax(dim=1, keepdim=True)\n",
        "            correct += pred.eq(target.view_as(pred)).sum().item()\n",
        "\n",
        "    val_loss /= len(val_loader.dataset)\n",
        "    accuracy = correct / len(val_loader.dataset)\n",
        "    return val_loss, accuracy"
      ],
      "metadata": {
        "id": "To6rUUsh2jK6"
      },
      "execution_count": 5,
      "outputs": []
    },
    {
      "cell_type": "code",
      "execution_count": 6,
      "metadata": {
        "id": "NG5FKVNTgvPh"
      },
      "outputs": [],
      "source": [
        "# Define the objective function for Optuna\n",
        "def objective(trial):\n",
        "    # Define hyperparameters to be optimized\n",
        "    input_size = 28 * 28  # MNIST image size\n",
        "    hidden_size = trial.suggest_int('hidden_size', 16, 256, log=True)\n",
        "    learning_rate = trial.suggest_loguniform('learning_rate', 1e-5, 1e-1)\n",
        "\n",
        "    # Create the model\n",
        "    model = SimpleNN(input_size, hidden_size, 10)  # 10 classes for MNIST\n",
        "\n",
        "    # Define the optimizer and criterion\n",
        "    optimizer = optim.Adam(model.parameters(), lr=learning_rate)\n",
        "    criterion = nn.CrossEntropyLoss()\n",
        "\n",
        "    # Training loop\n",
        "    for epoch in range(3):  # Adjust as needed\n",
        "        train(model, train_loader, optimizer, criterion)\n",
        "\n",
        "    # Evaluate on validation set\n",
        "    val_loss, accuracy = evaluate(model, val_loader, criterion)\n",
        "\n",
        "    return val_loss"
      ]
    },
    {
      "cell_type": "code",
      "source": [
        "# Load MNIST data\n",
        "transform = transforms.Compose([transforms.ToTensor(), transforms.Normalize((0.5,), (0.5,))])\n",
        "train_loader = torch.utils.data.DataLoader(datasets.MNIST('./data', train=True, download=True, transform=transform), batch_size=64, shuffle=True)\n",
        "val_loader = torch.utils.data.DataLoader(datasets.MNIST('./data', train=False, download=True, transform=transform), batch_size=64, shuffle=False)\n",
        "\n",
        "# Run Optuna optimization\n",
        "study = optuna.create_study(direction='minimize')\n",
        "study.optimize(objective, n_trials=10)  # You can adjust the number of trials\n",
        "\n",
        "# Print the best hyperparameters\n",
        "print('Best trial:')\n",
        "trial = study.best_trial\n",
        "print('Hidden Size: {}'.format(trial.params['hidden_size']))\n",
        "print('Learning Rate: {}'.format(trial.params['learning_rate']))"
      ],
      "metadata": {
        "id": "WE_FWZs-g1zj",
        "colab": {
          "base_uri": "https://localhost:8080/"
        },
        "outputId": "886aaaac-7b28-4aa5-c63a-9a50d473a714"
      },
      "execution_count": 7,
      "outputs": [
        {
          "output_type": "stream",
          "name": "stdout",
          "text": [
            "Downloading http://yann.lecun.com/exdb/mnist/train-images-idx3-ubyte.gz\n",
            "Downloading http://yann.lecun.com/exdb/mnist/train-images-idx3-ubyte.gz to ./data/MNIST/raw/train-images-idx3-ubyte.gz\n"
          ]
        },
        {
          "output_type": "stream",
          "name": "stderr",
          "text": [
            "100%|██████████| 9912422/9912422 [00:00<00:00, 169151353.77it/s]"
          ]
        },
        {
          "output_type": "stream",
          "name": "stdout",
          "text": [
            "Extracting ./data/MNIST/raw/train-images-idx3-ubyte.gz to ./data/MNIST/raw\n"
          ]
        },
        {
          "output_type": "stream",
          "name": "stderr",
          "text": [
            "\n"
          ]
        },
        {
          "output_type": "stream",
          "name": "stdout",
          "text": [
            "\n",
            "Downloading http://yann.lecun.com/exdb/mnist/train-labels-idx1-ubyte.gz\n",
            "Downloading http://yann.lecun.com/exdb/mnist/train-labels-idx1-ubyte.gz to ./data/MNIST/raw/train-labels-idx1-ubyte.gz\n"
          ]
        },
        {
          "output_type": "stream",
          "name": "stderr",
          "text": [
            "100%|██████████| 28881/28881 [00:00<00:00, 45166179.65it/s]\n"
          ]
        },
        {
          "output_type": "stream",
          "name": "stdout",
          "text": [
            "Extracting ./data/MNIST/raw/train-labels-idx1-ubyte.gz to ./data/MNIST/raw\n",
            "\n",
            "Downloading http://yann.lecun.com/exdb/mnist/t10k-images-idx3-ubyte.gz\n",
            "Downloading http://yann.lecun.com/exdb/mnist/t10k-images-idx3-ubyte.gz to ./data/MNIST/raw/t10k-images-idx3-ubyte.gz\n"
          ]
        },
        {
          "output_type": "stream",
          "name": "stderr",
          "text": [
            "100%|██████████| 1648877/1648877 [00:00<00:00, 48092482.80it/s]"
          ]
        },
        {
          "output_type": "stream",
          "name": "stdout",
          "text": [
            "Extracting ./data/MNIST/raw/t10k-images-idx3-ubyte.gz to ./data/MNIST/raw\n"
          ]
        },
        {
          "output_type": "stream",
          "name": "stderr",
          "text": [
            "\n"
          ]
        },
        {
          "output_type": "stream",
          "name": "stdout",
          "text": [
            "\n",
            "Downloading http://yann.lecun.com/exdb/mnist/t10k-labels-idx1-ubyte.gz\n",
            "Downloading http://yann.lecun.com/exdb/mnist/t10k-labels-idx1-ubyte.gz to ./data/MNIST/raw/t10k-labels-idx1-ubyte.gz\n"
          ]
        },
        {
          "output_type": "stream",
          "name": "stderr",
          "text": [
            "100%|██████████| 4542/4542 [00:00<00:00, 12582912.00it/s]\n",
            "[I 2024-02-21 05:19:06,312] A new study created in memory with name: no-name-44d85b74-159c-4adc-a6fe-e9f2e7ee01d1\n",
            "<ipython-input-6-e2bb7f5abb25>:6: FutureWarning: suggest_loguniform has been deprecated in v3.0.0. This feature will be removed in v6.0.0. See https://github.com/optuna/optuna/releases/tag/v3.0.0. Use suggest_float(..., log=True) instead.\n",
            "  learning_rate = trial.suggest_loguniform('learning_rate', 1e-5, 1e-1)\n"
          ]
        },
        {
          "output_type": "stream",
          "name": "stdout",
          "text": [
            "Extracting ./data/MNIST/raw/t10k-labels-idx1-ubyte.gz to ./data/MNIST/raw\n",
            "\n"
          ]
        },
        {
          "output_type": "stream",
          "name": "stderr",
          "text": [
            "[I 2024-02-21 05:19:39,359] Trial 0 finished with value: 0.004166220931429416 and parameters: {'hidden_size': 24, 'learning_rate': 0.0010219094468205837}. Best is trial 0 with value: 0.004166220931429416.\n",
            "[I 2024-02-21 05:20:14,515] Trial 1 finished with value: 0.0034241532592102883 and parameters: {'hidden_size': 194, 'learning_rate': 0.00016157577115584877}. Best is trial 1 with value: 0.0034241532592102883.\n",
            "[I 2024-02-21 05:20:47,937] Trial 2 finished with value: 0.005557313093915581 and parameters: {'hidden_size': 80, 'learning_rate': 4.719936207935048e-05}. Best is trial 1 with value: 0.0034241532592102883.\n",
            "[I 2024-02-21 05:21:21,036] Trial 3 finished with value: 0.00510447137132287 and parameters: {'hidden_size': 45, 'learning_rate': 9.08371752212812e-05}. Best is trial 1 with value: 0.0034241532592102883.\n",
            "[I 2024-02-21 05:21:56,974] Trial 4 finished with value: 0.0023232319671195 and parameters: {'hidden_size': 233, 'learning_rate': 0.00039120887014885004}. Best is trial 4 with value: 0.0023232319671195.\n",
            "[I 2024-02-21 05:22:29,656] Trial 5 finished with value: 0.003316521693300456 and parameters: {'hidden_size': 45, 'learning_rate': 0.0018694075998998692}. Best is trial 4 with value: 0.0023232319671195.\n",
            "[I 2024-02-21 05:23:03,167] Trial 6 finished with value: 0.005418801258504391 and parameters: {'hidden_size': 75, 'learning_rate': 5.454513349150514e-05}. Best is trial 4 with value: 0.0023232319671195.\n",
            "[I 2024-02-21 05:23:35,941] Trial 7 finished with value: 0.010110453572124242 and parameters: {'hidden_size': 34, 'learning_rate': 0.02990034329646026}. Best is trial 4 with value: 0.0023232319671195.\n",
            "[I 2024-02-21 05:24:09,908] Trial 8 finished with value: 0.004153689122386277 and parameters: {'hidden_size': 99, 'learning_rate': 0.00014506493959566758}. Best is trial 4 with value: 0.0023232319671195.\n",
            "[I 2024-02-21 05:24:44,261] Trial 9 finished with value: 0.004981533381342888 and parameters: {'hidden_size': 95, 'learning_rate': 5.8589363674680056e-05}. Best is trial 4 with value: 0.0023232319671195.\n"
          ]
        },
        {
          "output_type": "stream",
          "name": "stdout",
          "text": [
            "Best trial:\n",
            "Hidden Size: 233\n",
            "Learning Rate: 0.00039120887014885004\n"
          ]
        }
      ]
    },
    {
      "cell_type": "markdown",
      "source": [
        "Optuna Intro https://www.youtube.com/watch?v=t-INgABWULw"
      ],
      "metadata": {
        "id": "iilrcP460lKM"
      }
    }
  ]
}