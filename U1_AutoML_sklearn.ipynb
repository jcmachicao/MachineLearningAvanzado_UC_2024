{
  "nbformat": 4,
  "nbformat_minor": 0,
  "metadata": {
    "colab": {
      "provenance": [],
      "authorship_tag": "ABX9TyOHLnpvygn3SZQYbynlj0dB",
      "include_colab_link": true
    },
    "kernelspec": {
      "name": "python3",
      "display_name": "Python 3"
    },
    "language_info": {
      "name": "python"
    }
  },
  "cells": [
    {
      "cell_type": "markdown",
      "metadata": {
        "id": "view-in-github",
        "colab_type": "text"
      },
      "source": [
        "<a href=\"https://colab.research.google.com/github/jcmachicao/MachineLearningAvanzado_UC_2024/blob/main/U1_AutoML_sklearn.ipynb\" target=\"_parent\"><img src=\"https://colab.research.google.com/assets/colab-badge.svg\" alt=\"Open In Colab\"/></a>"
      ]
    },
    {
      "cell_type": "code",
      "execution_count": null,
      "metadata": {
        "id": "EuIupi-WPG9v"
      },
      "outputs": [],
      "source": [
        "import autosklearn.classification\n",
        "import sklearn.datasets\n",
        "import sklearn.model_selection\n",
        "\n",
        "# Load data\n",
        "X, y = sklearn.datasets.load_digits(return_X_y=True)\n",
        "\n",
        "# Split data into train and test sets\n",
        "X_train, X_test, y_train, y_test = sklearn.model_selection.train_test_split(X, y, random_state=42)\n",
        "\n",
        "# Configure and train AutoML classifier\n",
        "automl_classifier = autosklearn.classification.AutoSklearnClassifier(\n",
        "    time_left_for_this_task=120,  # Time limit for search in seconds\n",
        "    per_run_time_limit=30,         # Time limit for each model in seconds\n",
        "    ensemble_size=1,               # Ensemble size for ensembling models\n",
        "    include_preprocessors=[\"no_preprocessing\"],  # Include data preprocessors\n",
        "    resampling_strategy='holdout',  # Holdout validation strategy\n",
        "    resampling_strategy_arguments={'train_size': 0.8},  # Holdout validation ratio\n",
        ")\n",
        "automl_classifier.fit(X_train, y_train)\n",
        "\n",
        "# Access information about individual models\n",
        "for idx, model in enumerate(automl_classifier.models_):\n",
        "    print(f\"Model {idx + 1}: {model}\")\n"
      ]
    }
  ]
}