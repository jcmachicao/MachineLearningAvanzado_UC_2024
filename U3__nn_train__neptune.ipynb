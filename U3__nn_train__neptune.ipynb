{
  "nbformat": 4,
  "nbformat_minor": 0,
  "metadata": {
    "colab": {
      "provenance": [],
      "authorship_tag": "ABX9TyNEv4+Gm+LCJTfIWLtUHwxp",
      "include_colab_link": true
    },
    "kernelspec": {
      "name": "python3",
      "display_name": "Python 3"
    },
    "language_info": {
      "name": "python"
    }
  },
  "cells": [
    {
      "cell_type": "markdown",
      "metadata": {
        "id": "view-in-github",
        "colab_type": "text"
      },
      "source": [
        "<a href=\"https://colab.research.google.com/github/jcmachicao/MachineLearningAvanzado_UC_2024/blob/main/U3__nn_train__neptune.ipynb\" target=\"_parent\"><img src=\"https://colab.research.google.com/assets/colab-badge.svg\" alt=\"Open In Colab\"/></a>"
      ]
    },
    {
      "cell_type": "code",
      "execution_count": null,
      "metadata": {
        "id": "xA4BlkGogDWJ"
      },
      "outputs": [],
      "source": [
        "import neptune.new as neptune\n",
        "import torch\n",
        "import torch.nn as nn\n",
        "import torch.optim as optim\n",
        "\n",
        "# Inicializar Neptune\n",
        "run = neptune.init(\n",
        "    project=\"TU_USUARIO/TU_PROYECTO\",\n",
        "    api_token=\"TU_API_TOKEN\"\n",
        ")\n",
        "\n",
        "# Suponiendo que ya tienes definidos tu modelo, criterio y optimizador\n",
        "model = ...\n",
        "criterion = nn.MSELoss()  # Ejemplo de criterio de pérdida\n",
        "optimizer = optim.SGD(model.parameters(), lr=0.01)  # Ejemplo de optimizador\n",
        "\n",
        "# Datos de entrada\n",
        "X_tensor = ...\n",
        "y_tensor = ...\n",
        "\n",
        "# Ejemplo de un ciclo de entrenamiento\n",
        "for epoch in range(1000):  # Número de épocas de entrenamiento\n",
        "    optimizer.zero_grad()  # Poner a cero los gradientes antes de la pasada hacia adelante\n",
        "    outputs = model(X_tensor)  # Pasada hacia adelante\n",
        "    loss = criterion(outputs, y_tensor)  # Calcular la pérdida\n",
        "    loss.backward()  # Pasada hacia atrás para calcular los gradientes\n",
        "    optimizer.step()  # Actualizar los pesos\n",
        "\n",
        "    # Registrar la pérdida en Neptune\n",
        "    run[\"train/loss\"].log(loss.item())\n",
        "\n",
        "    if (epoch+1) % 50 == 0:  # Mostrar la pérdida cada 50 épocas\n",
        "        print(f'Epoca [{epoch+1}/1000], Perdida: {loss.item():.4f}')\n",
        "\n",
        "# Finalizar el experimento en Neptune\n",
        "run.stop()\n"
      ]
    }
  ]
}