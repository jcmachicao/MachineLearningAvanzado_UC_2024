{
  "nbformat": 4,
  "nbformat_minor": 0,
  "metadata": {
    "colab": {
      "provenance": [],
      "authorship_tag": "ABX9TyNqz6ZQxqM3s/f2MYHGyuQq",
      "include_colab_link": true
    },
    "kernelspec": {
      "name": "python3",
      "display_name": "Python 3"
    },
    "language_info": {
      "name": "python"
    }
  },
  "cells": [
    {
      "cell_type": "markdown",
      "metadata": {
        "id": "view-in-github",
        "colab_type": "text"
      },
      "source": [
        "<a href=\"https://colab.research.google.com/github/jcmachicao/MachineLearningAvanzado_UC_2024/blob/main/U2_Concepto_NAS_simple.ipynb\" target=\"_parent\"><img src=\"https://colab.research.google.com/assets/colab-badge.svg\" alt=\"Open In Colab\"/></a>"
      ]
    },
    {
      "cell_type": "code",
      "source": [
        "import torch\n",
        "import torch.nn as nn\n",
        "import torch.optim as optim\n",
        "import torch.nn.functional as F\n",
        "import numpy as np"
      ],
      "metadata": {
        "id": "jLoikP9sb_yF"
      },
      "execution_count": 1,
      "outputs": []
    },
    {
      "cell_type": "code",
      "source": [
        "# Define una función para generar una arquitectura de red neuronal convolucional (CNN) aleatoria\n",
        "def generate_random_architecture():\n",
        "    num_conv_layers = np.random.randint(1, 4)  # Número de capas convolucionales (1 a 3)\n",
        "    conv_channels = [np.random.randint(8, 64) for _ in range(num_conv_layers)]  # Número de canales para cada capa convolucional\n",
        "    return num_conv_layers, conv_channels\n",
        "\n",
        "# Define la CNN\n",
        "class SimpleCNN(nn.Module):\n",
        "    def __init__(self, num_conv_layers, conv_channels):\n",
        "        super(SimpleCNN, self).__init__()\n",
        "        self.conv_layers = nn.ModuleList()\n",
        "        in_channels = 1  # Canal de entrada para la primera capa convolucional\n",
        "        for channels in conv_channels:\n",
        "            self.conv_layers.append(nn.Conv2d(in_channels, channels, kernel_size=3, padding=1))\n",
        "            in_channels = channels\n",
        "        self.fc = nn.Linear(in_channels * 28 * 28, 10)  # Capa lineal de salida\n",
        "\n",
        "    def forward(self, x):\n",
        "        for layer in self.conv_layers:\n",
        "            x = F.relu(layer(x))\n",
        "            x = F.max_pool2d(x, 2, 2)\n",
        "        x = x.view(x.size(0), -1)\n",
        "        x = self.fc(x)\n",
        "        return x"
      ],
      "metadata": {
        "id": "yrvjsZupcFWZ"
      },
      "execution_count": 2,
      "outputs": []
    },
    {
      "cell_type": "code",
      "source": [
        "# Genera una arquitectura aleatoria\n",
        "num_conv_layers, conv_channels = generate_random_architecture()\n",
        "print(\"Arquitectura generada:\", num_conv_layers, conv_channels)"
      ],
      "metadata": {
        "colab": {
          "base_uri": "https://localhost:8080/"
        },
        "id": "vYJaAQW4cRM_",
        "outputId": "5fa98005-e649-44b2-c013-0de1ee346878"
      },
      "execution_count": 3,
      "outputs": [
        {
          "output_type": "stream",
          "name": "stdout",
          "text": [
            "Arquitectura generada: 3 [49, 58, 12]\n"
          ]
        }
      ]
    }
  ]
}