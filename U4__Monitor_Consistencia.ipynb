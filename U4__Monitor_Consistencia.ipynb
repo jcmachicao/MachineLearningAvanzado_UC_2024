{
  "nbformat": 4,
  "nbformat_minor": 0,
  "metadata": {
    "colab": {
      "provenance": [],
      "authorship_tag": "ABX9TyPT91+JIf6fFAxDrN3DhP0X",
      "include_colab_link": true
    },
    "kernelspec": {
      "name": "python3",
      "display_name": "Python 3"
    },
    "language_info": {
      "name": "python"
    }
  },
  "cells": [
    {
      "cell_type": "markdown",
      "metadata": {
        "id": "view-in-github",
        "colab_type": "text"
      },
      "source": [
        "<a href=\"https://colab.research.google.com/github/jcmachicao/MachineLearningAvanzado_UC_2025/blob/main/U4__Monitor_Consistencia.ipynb\" target=\"_parent\"><img src=\"https://colab.research.google.com/assets/colab-badge.svg\" alt=\"Open In Colab\"/></a>"
      ]
    },
    {
      "cell_type": "markdown",
      "source": [
        "# Monitor de Consistencia"
      ],
      "metadata": {
        "id": "-ktyHMhuYRM_"
      }
    },
    {
      "cell_type": "code",
      "source": [
        "import torch\n",
        "import torch.nn as nn\n",
        "from typing import Dict, List, Tuple\n",
        "import numpy as np"
      ],
      "metadata": {
        "id": "DNkeqrjUSCHx"
      },
      "execution_count": 1,
      "outputs": []
    },
    {
      "cell_type": "code",
      "source": [
        "class ConsistencyMonitor:\n",
        "    def __init__(self, tolerance_threshold: float = 0.1):\n",
        "        self.tolerance_threshold = tolerance_threshold\n",
        "        self.historical_predictions: List[np.ndarray] = []\n",
        "        self.consistency_scores: List[float] = []\n",
        "\n",
        "    def check_temporal_consistency(self, new_prediction: np.ndarray) -> float:\n",
        "        \"\"\"Check if new predictions are consistent with historical trends.\"\"\"\n",
        "        if len(self.historical_predictions) < 2:\n",
        "            self.historical_predictions.append(new_prediction)\n",
        "            return 1.0\n",
        "\n",
        "        # Calculate trend consistency\n",
        "        prev_trend = self.historical_predictions[-1] - self.historical_predictions[-2]\n",
        "        new_trend = new_prediction - self.historical_predictions[-1]\n",
        "\n",
        "        # Normalize trends\n",
        "        prev_trend_norm = prev_trend / (np.linalg.norm(prev_trend) + 1e-7)\n",
        "        new_trend_norm = new_trend / (np.linalg.norm(new_trend) + 1e-7)\n",
        "\n",
        "        # Calculate consistency score using cosine similarity\n",
        "        consistency_score = np.dot(prev_trend_norm.flatten(), new_trend_norm.flatten())\n",
        "\n",
        "        # Update history\n",
        "        self.historical_predictions.append(new_prediction)\n",
        "        self.consistency_scores.append(consistency_score)\n",
        "\n",
        "        return consistency_score\n",
        "\n",
        "    def detect_anomalies(self) -> List[int]:\n",
        "        \"\"\"Detect timepoints where consistency was violated.\"\"\"\n",
        "        anomalies = []\n",
        "        for i, score in enumerate(self.consistency_scores):\n",
        "            if score < self.tolerance_threshold:\n",
        "                anomalies.append(i)\n",
        "        return anomalies\n",
        "\n",
        "    def get_recovery_suggestion(self, anomaly_index: int) -> str:\n",
        "        \"\"\"Suggest recovery strategy based on anomaly pattern.\"\"\"\n",
        "        if anomaly_index >= len(self.consistency_scores):\n",
        "            return \"Invalid anomaly index\"\n",
        "\n",
        "        score = self.consistency_scores[anomaly_index]\n",
        "        if score < 0:\n",
        "            return \"Critical: Prediction trend reversed. Consider model retraining.\"\n",
        "        elif score < self.tolerance_threshold/2:\n",
        "            return \"Warning: Significant consistency drop. Check input data quality.\"\n",
        "        else:\n",
        "            return \"Minor: Slight consistency deviation. Monitor next predictions.\""
      ],
      "metadata": {
        "id": "1nhE1y8aSLW_"
      },
      "execution_count": 2,
      "outputs": []
    },
    {
      "cell_type": "code",
      "execution_count": 3,
      "metadata": {
        "id": "dJW5xRpCR7iv"
      },
      "outputs": [],
      "source": [
        "class ConsistentModel(nn.Module):\n",
        "    def __init__(self, base_model: nn.Module):\n",
        "        super().__init__()\n",
        "        self.base_model = base_model\n",
        "        self.consistency_monitor = ConsistencyMonitor()\n",
        "\n",
        "    def forward(self, x: torch.Tensor) -> Tuple[torch.Tensor, float]:\n",
        "        # Get base model prediction\n",
        "        prediction = self.base_model(x)\n",
        "\n",
        "        # Check consistency\n",
        "        consistency_score = self.consistency_monitor.check_temporal_consistency(\n",
        "            prediction.detach().numpy()\n",
        "        )\n",
        "\n",
        "        # If consistency is low, trigger recovery mechanism\n",
        "        if consistency_score < self.consistency_monitor.tolerance_threshold:\n",
        "            # Example recovery: Smooth prediction with historical average\n",
        "            historical_tensor = torch.tensor(self.consistency_monitor.historical_predictions[-3:])\n",
        "            prediction = (prediction + historical_tensor.mean(dim=0)) / 2\n",
        "\n",
        "        return prediction, consistency_score"
      ]
    },
    {
      "cell_type": "code",
      "source": [
        "# Create base model\n",
        "base_model = nn.Sequential(\n",
        "    nn.Linear(10, 5),\n",
        "    nn.ReLU(),\n",
        "    nn.Linear(5, 2)\n",
        ")"
      ],
      "metadata": {
        "id": "hpprGJVXQX7z"
      },
      "execution_count": 4,
      "outputs": []
    },
    {
      "cell_type": "code",
      "source": [
        "# Wrap with consistency monitoring\n",
        "consistent_model = ConsistentModel(base_model)"
      ],
      "metadata": {
        "id": "GViVbvi7Qelg"
      },
      "execution_count": 5,
      "outputs": []
    },
    {
      "cell_type": "code",
      "source": [
        "# Simulate predictions\n",
        "for _ in range(10):\n",
        "    x = torch.randn(1, 10)\n",
        "    prediction, consistency = consistent_model(x)\n",
        "    print(f\"Prediction shape: {prediction.shape}, Consistency: {consistency:.4f}\")\n",
        "\n",
        "    # Check for anomalies\n",
        "    anomalies = consistent_model.consistency_monitor.detect_anomalies()\n",
        "    if anomalies:\n",
        "        print(\"Detected anomalies at timesteps:\", anomalies)\n",
        "        for anomaly_idx in anomalies:\n",
        "            suggestion = consistent_model.consistency_monitor.get_recovery_suggestion(anomaly_idx)\n",
        "            print(f\"Recovery suggestion: {suggestion}\")"
      ],
      "metadata": {
        "colab": {
          "base_uri": "https://localhost:8080/"
        },
        "id": "vNodBGgRSKA1",
        "outputId": "098075c7-4786-42c6-e671-3242235a6e25"
      },
      "execution_count": 6,
      "outputs": [
        {
          "output_type": "stream",
          "name": "stdout",
          "text": [
            "Prediction shape: torch.Size([1, 2]), Consistency: 1.0000\n",
            "Prediction shape: torch.Size([1, 2]), Consistency: 1.0000\n",
            "Prediction shape: torch.Size([1, 2]), Consistency: -0.8868\n",
            "Detected anomalies at timesteps: [0]\n",
            "Recovery suggestion: Critical: Prediction trend reversed. Consider model retraining.\n",
            "Prediction shape: torch.Size([1, 2]), Consistency: -0.8216\n",
            "Detected anomalies at timesteps: [0, 1]\n",
            "Recovery suggestion: Critical: Prediction trend reversed. Consider model retraining.\n",
            "Recovery suggestion: Critical: Prediction trend reversed. Consider model retraining.\n",
            "Prediction shape: torch.Size([1, 2]), Consistency: 0.6311\n",
            "Detected anomalies at timesteps: [0, 1]\n",
            "Recovery suggestion: Critical: Prediction trend reversed. Consider model retraining.\n",
            "Recovery suggestion: Critical: Prediction trend reversed. Consider model retraining.\n",
            "Prediction shape: torch.Size([1, 2]), Consistency: -0.6192\n",
            "Detected anomalies at timesteps: [0, 1, 3]\n",
            "Recovery suggestion: Critical: Prediction trend reversed. Consider model retraining.\n",
            "Recovery suggestion: Critical: Prediction trend reversed. Consider model retraining.\n",
            "Recovery suggestion: Critical: Prediction trend reversed. Consider model retraining.\n",
            "Prediction shape: torch.Size([1, 2]), Consistency: -0.8382\n",
            "Detected anomalies at timesteps: [0, 1, 3, 4]\n",
            "Recovery suggestion: Critical: Prediction trend reversed. Consider model retraining.\n",
            "Recovery suggestion: Critical: Prediction trend reversed. Consider model retraining.\n",
            "Recovery suggestion: Critical: Prediction trend reversed. Consider model retraining.\n",
            "Recovery suggestion: Critical: Prediction trend reversed. Consider model retraining.\n",
            "Prediction shape: torch.Size([1, 2]), Consistency: 0.5986\n",
            "Detected anomalies at timesteps: [0, 1, 3, 4]\n",
            "Recovery suggestion: Critical: Prediction trend reversed. Consider model retraining.\n",
            "Recovery suggestion: Critical: Prediction trend reversed. Consider model retraining.\n",
            "Recovery suggestion: Critical: Prediction trend reversed. Consider model retraining.\n",
            "Recovery suggestion: Critical: Prediction trend reversed. Consider model retraining.\n",
            "Prediction shape: torch.Size([1, 2]), Consistency: 0.6019\n",
            "Detected anomalies at timesteps: [0, 1, 3, 4]\n",
            "Recovery suggestion: Critical: Prediction trend reversed. Consider model retraining.\n",
            "Recovery suggestion: Critical: Prediction trend reversed. Consider model retraining.\n",
            "Recovery suggestion: Critical: Prediction trend reversed. Consider model retraining.\n",
            "Recovery suggestion: Critical: Prediction trend reversed. Consider model retraining.\n",
            "Prediction shape: torch.Size([1, 2]), Consistency: 0.9975\n",
            "Detected anomalies at timesteps: [0, 1, 3, 4]\n",
            "Recovery suggestion: Critical: Prediction trend reversed. Consider model retraining.\n",
            "Recovery suggestion: Critical: Prediction trend reversed. Consider model retraining.\n",
            "Recovery suggestion: Critical: Prediction trend reversed. Consider model retraining.\n",
            "Recovery suggestion: Critical: Prediction trend reversed. Consider model retraining.\n"
          ]
        },
        {
          "output_type": "stream",
          "name": "stderr",
          "text": [
            "<ipython-input-3-4a623b60519d>:19: UserWarning: Creating a tensor from a list of numpy.ndarrays is extremely slow. Please consider converting the list to a single numpy.ndarray with numpy.array() before converting to a tensor. (Triggered internally at ../torch/csrc/utils/tensor_new.cpp:278.)\n",
            "  historical_tensor = torch.tensor(self.consistency_monitor.historical_predictions[-3:])\n"
          ]
        }
      ]
    },
    {
      "cell_type": "markdown",
      "source": [
        "# Monitor Simple de Consistencia"
      ],
      "metadata": {
        "id": "HOQkl863YKc2"
      }
    },
    {
      "cell_type": "code",
      "source": [
        "def analizar_consistencia(predicciones):\n",
        "    \"\"\"\n",
        "    Analiza la consistencia de una serie de predicciones usando\n",
        "    tanto la dirección como la magnitud del cambio.\n",
        "    \"\"\"\n",
        "    if len(predicciones) < 3:\n",
        "        return {\"consistencia\": 1.0, \"estado\": \"OK\"}\n",
        "\n",
        "    # Calculamos tendencias\n",
        "    tendencia_previa = predicciones[-2] - predicciones[-3]\n",
        "    tendencia_actual = predicciones[-1] - predicciones[-2]\n",
        "\n",
        "    # Calculamos score de consistencia usando varios factores\n",
        "\n",
        "    # 1. Dirección del cambio (usando producto punto normalizado)\n",
        "    norm_previa = tendencia_previa / (abs(tendencia_previa) + 1e-7)\n",
        "    norm_actual = tendencia_actual / (abs(tendencia_actual) + 1e-7)\n",
        "    direccion_score = norm_previa * norm_actual\n",
        "\n",
        "    # 2. Magnitud del cambio\n",
        "    magnitud_previa = abs(tendencia_previa)\n",
        "    magnitud_actual = abs(tendencia_actual)\n",
        "    ratio_magnitud = min(magnitud_previa, magnitud_actual) / (max(magnitud_previa, magnitud_actual) + 1e-7)\n",
        "\n",
        "    # Score combinado\n",
        "    score = direccion_score * ratio_magnitud\n",
        "\n",
        "    # Determinamos estado\n",
        "    if direccion_score < 0:\n",
        "        estado = f\"CRÍTICO: Cambio de dirección (score={score:.2f})\"\n",
        "    elif score < 0.5:\n",
        "        estado = f\"ADVERTENCIA: Desviación significativa (score={score:.2f})\"\n",
        "    else:\n",
        "        estado = f\"OK (score={score:.2f})\"\n",
        "\n",
        "    return {\n",
        "        \"consistencia\": score,\n",
        "        \"estado\": estado,\n",
        "        \"tendencia_previa\": tendencia_previa,\n",
        "        \"tendencia_actual\": tendencia_actual,\n",
        "        \"direccion_score\": direccion_score,\n",
        "        \"ratio_magnitud\": ratio_magnitud\n",
        "    }"
      ],
      "metadata": {
        "id": "wr2oMZmqWQ9H"
      },
      "execution_count": 7,
      "outputs": []
    },
    {
      "cell_type": "code",
      "source": [
        "# Ejemplos de uso\n",
        "casos_prueba = [\n",
        "    [1, 2, 3, 4, 5], # Caso 1: Consistente creciente\n",
        "    [1, 2, 3, 2, 1], # Caso 2: Inconsistencia por cambio de dirección\n",
        "    [1, 2, 3, 3.8, 3.9], # Caso 3: Desviación significativa\n",
        "    [1, 3, 5, 3.8, 2.5] # Caso 3: Desviación significativa\n",
        "\n",
        "]"
      ],
      "metadata": {
        "id": "63c-7JTwUPUK"
      },
      "execution_count": 8,
      "outputs": []
    },
    {
      "cell_type": "code",
      "source": [
        "for i, caso in enumerate(casos_prueba, 1):\n",
        "    print(f\"\\nCaso {i}: {caso}\")\n",
        "    resultado = analizar_consistencia(caso)\n",
        "    print(f\"Score de consistencia: {resultado['consistencia']:.2f}\")\n",
        "    print(f\"Estado: {resultado['estado']}\")\n",
        "    print(f\"Tendencia previa: {resultado['tendencia_previa']:.2f}\")\n",
        "    print(f\"Tendencia actual: {resultado['tendencia_actual']:.2f}\")"
      ],
      "metadata": {
        "colab": {
          "base_uri": "https://localhost:8080/"
        },
        "id": "VBifr1G5Tvfi",
        "outputId": "07bd5861-c8b3-41c9-e13f-3d23a28ff399"
      },
      "execution_count": 9,
      "outputs": [
        {
          "output_type": "stream",
          "name": "stdout",
          "text": [
            "\n",
            "Caso 1: [1, 2, 3, 4, 5]\n",
            "Score de consistencia: 1.00\n",
            "Estado: OK (score=1.00)\n",
            "Tendencia previa: 1.00\n",
            "Tendencia actual: 1.00\n",
            "\n",
            "Caso 2: [1, 2, 3, 2, 1]\n",
            "Score de consistencia: 1.00\n",
            "Estado: OK (score=1.00)\n",
            "Tendencia previa: -1.00\n",
            "Tendencia actual: -1.00\n",
            "\n",
            "Caso 3: [1, 2, 3, 3.8, 3.9]\n",
            "Score de consistencia: 0.12\n",
            "Estado: ADVERTENCIA: Desviación significativa (score=0.12)\n",
            "Tendencia previa: 0.80\n",
            "Tendencia actual: 0.10\n",
            "\n",
            "Caso 4: [1, 3, 5, 3.8, 2.5]\n",
            "Score de consistencia: 0.92\n",
            "Estado: OK (score=0.92)\n",
            "Tendencia previa: -1.20\n",
            "Tendencia actual: -1.30\n"
          ]
        }
      ]
    }
  ]
}