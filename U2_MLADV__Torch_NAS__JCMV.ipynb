{
  "nbformat": 4,
  "nbformat_minor": 0,
  "metadata": {
    "colab": {
      "provenance": [],
      "authorship_tag": "ABX9TyO4WyIDzVlR5/rTNkDRTwPM",
      "include_colab_link": true
    },
    "kernelspec": {
      "name": "python3",
      "display_name": "Python 3"
    },
    "language_info": {
      "name": "python"
    }
  },
  "cells": [
    {
      "cell_type": "markdown",
      "metadata": {
        "id": "view-in-github",
        "colab_type": "text"
      },
      "source": [
        "<a href=\"https://colab.research.google.com/github/jcmachicao/MachineLearningAvanzado_UC_2024/blob/main/U2_MLADV__Torch_NAS__JCMV.ipynb\" target=\"_parent\"><img src=\"https://colab.research.google.com/assets/colab-badge.svg\" alt=\"Open In Colab\"/></a>"
      ]
    },
    {
      "cell_type": "code",
      "source": [
        "!pip install torch torchdyn"
      ],
      "metadata": {
        "id": "1CJbP51M783N"
      },
      "execution_count": null,
      "outputs": []
    },
    {
      "cell_type": "code",
      "source": [
        "import torch\n",
        "import torch.nn as nn\n",
        "import torch.optim as optim\n",
        "from torchdyn.models import Sequential"
      ],
      "metadata": {
        "id": "RWca10bo7XJa"
      },
      "execution_count": null,
      "outputs": []
    },
    {
      "cell_type": "code",
      "execution_count": null,
      "metadata": {
        "id": "F8CBgWUW7VT6"
      },
      "outputs": [],
      "source": [
        "# Define the search space for the NAS (DARTS)\n",
        "class MixedOp(nn.Module):\n",
        "    def __init__(self, C, stride):\n",
        "        super(MixedOp, self).__init__()\n",
        "        self.ops = nn.ModuleList()\n",
        "        for primitive in [\"identity\", \"max_pool_3x3\", \"avg_pool_3x3\", \"skip_connect\", \"sep_conv_3x3\"]:\n",
        "            op = OPS[primitive](C, stride, False)\n",
        "            self.ops.append(op)\n",
        "\n",
        "    def forward(self, x, weights):\n",
        "        return sum(w * op(x) for w, op in zip(weights, self.ops))\n",
        "\n",
        "class NASCell(nn.Module):\n",
        "    def __init__(self, steps, C):\n",
        "        super(NASCell, self).__init__()\n",
        "        self.preprocess0 = nn.Sequential(nn.Conv2d(C, C, kernel_size=1, padding=0, bias=False), nn.BatchNorm2d(C))\n",
        "        self.preprocess1 = nn.Sequential(nn.Conv2d(C, C, kernel_size=1, padding=0, bias=False), nn.BatchNorm2d(C))\n",
        "        self._steps = steps\n",
        "        self._ops = nn.ModuleList()\n",
        "        for i in range(self._steps):\n",
        "            op = MixedOp(C, 1)\n",
        "            self._ops.append(op)\n",
        "\n",
        "    def forward(self, s0, s1, weights):\n",
        "        s0 = self.preprocess0(s0)\n",
        "        s1 = self.preprocess1(s1)\n",
        "        states = [s0, s1]\n",
        "        offset = 0\n",
        "        for i in range(self._steps):\n",
        "            s = sum(self._ops[offset + j](h, weights[offset + j]) for j, h in enumerate(states))\n",
        "            offset += len(states)\n",
        "            states.append(s)\n",
        "        return torch.cat(states[-self._steps:], dim=1)\n"
      ]
    },
    {
      "cell_type": "code",
      "source": [
        "# Define the search space operations\n",
        "OPS = {\n",
        "    \"identity\": lambda C, stride, affine: Identity(),\n",
        "    \"max_pool_3x3\": lambda C, stride, affine: MaxPool(C, 3, stride, 1, affine=affine),\n",
        "    \"avg_pool_3x3\": lambda C, stride, affine: AvgPool(C, 3, stride, 1, affine=affine),\n",
        "    \"skip_connect\": lambda C, stride, affine: SkipConnect(C, stride, affine),\n",
        "    \"sep_conv_3x3\": lambda C, stride, affine: SepConv(C, C, 3, stride, 1, affine=affine),\n",
        "}\n",
        "\n",
        "# Define the final model using NAS\n",
        "class NASNet(nn.Module):\n",
        "    def __init__(self, C, steps, num_classes):\n",
        "        super(NASNet, self).__init__()\n",
        "        self.stem0 = nn.Sequential(nn.Conv2d(3, C, kernel_size=3, padding=1, bias=False), nn.BatchNorm2d(C))\n",
        "        self.stem1 = nn.Sequential(nn.Conv2d(C, C, kernel_size=3, padding=1, bias=False), nn.BatchNorm2d(C))\n",
        "\n",
        "        self.cells = nn.ModuleList()\n",
        "        for i in range(steps):\n",
        "            cell = NASCell(steps, C)\n",
        "            self.cells += [cell]\n",
        "        self.global_pooling = nn.AdaptiveAvgPool2d(1)\n",
        "        self.classifier = nn.Linear(C * 4, num_classes)\n",
        "\n",
        "    def forward(self, x, weights):\n",
        "        s0 = s1 = self.stem0(x)\n",
        "        for cell in self.cells:\n",
        "            weights = weights.view(-1).softmax(dim=0)\n",
        "            s0, s1 = s1, cell(s0, s1, weights)\n",
        "        out = self.global_pooling(s1)\n",
        "        out = out.view(out.size(0), -1)\n",
        "        out = self.classifier(out)\n",
        "        return out\n"
      ],
      "metadata": {
        "id": "xlHQBkq77jGQ"
      },
      "execution_count": null,
      "outputs": []
    },
    {
      "cell_type": "code",
      "source": [
        "# Example: Create and train the NASNet using random weights (for simplicity)\n",
        "C = 16  # Number of channels\n",
        "steps = 4  # Number of NAS steps\n",
        "num_classes = 10  # Number of output classes\n",
        "\n",
        "# Random weights (for simplicity, in practice, you would use an optimization algorithm)\n",
        "weights = torch.randn(1, 14, requires_grad=True)\n",
        "\n",
        "# Create the NASNet model\n",
        "nasnet = NASNet(C, steps, num_classes)\n",
        "\n",
        "# Example input (batch size, channels, height, width)\n",
        "input_data = torch.randn(1, 3, 32, 32)\n",
        "\n",
        "# Forward pass with random weights\n",
        "output = nasnet(input_data, weights)\n",
        "\n",
        "# Print the output shape\n",
        "print(\"Output shape:\", output.shape)"
      ],
      "metadata": {
        "id": "2xwt53zZ7lby"
      },
      "execution_count": null,
      "outputs": []
    }
  ]
}